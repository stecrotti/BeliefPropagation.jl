{
 "cells": [
  {
   "cell_type": "markdown",
   "metadata": {},
   "source": [
    "# A very basic example\n",
    "This notebooks shows the basic mechanics of the package on a toy model with a few variables"
   ]
  },
  {
   "cell_type": "code",
   "execution_count": 1,
   "metadata": {},
   "outputs": [
    {
     "name": "stderr",
     "output_type": "stream",
     "text": [
      "WARNING: method definition for compute_za at /home/ab/src/BeliefPropagation.jl/src/bp.jl:393 declares type variable T but does not use it.\n"
     ]
    }
   ],
   "source": [
    "using Revise, BeliefPropagation, BeliefPropagation.FactorGraphs"
   ]
  },
  {
   "cell_type": "markdown",
   "metadata": {},
   "source": [
    "Construct a small factor graph from an adjacency matrix: rows correspond to factors, columns to variables. $A_{a, i}$ is one if variable $i$ is involved in factor $a$, zero otherwise.\n",
    "Here we have 3 factors and 4 variables."
   ]
  },
  {
   "cell_type": "code",
   "execution_count": 2,
   "metadata": {},
   "outputs": [
    {
     "data": {
      "text/plain": [
       "FactorGraph{Int64} with 3 factors, 4 variables and 6 edges\n"
      ]
     },
     "metadata": {},
     "output_type": "display_data"
    }
   ],
   "source": [
    "A = [0 1 1 0;\n",
    "     1 0 1 0;\n",
    "     0 0 1 1]\n",
    "g = FactorGraph(A)"
   ]
  },
  {
   "cell_type": "markdown",
   "metadata": {},
   "source": [
    "Take a look at the factor graph\n",
    "\n",
    "(This cell is commented out by default because loading Plots for the first time can take a few seconds)"
   ]
  },
  {
   "cell_type": "code",
   "execution_count": 3,
   "metadata": {},
   "outputs": [],
   "source": [
    "# using Plots, GraphRecipes\n",
    "# plot(g, size=(400,300), shownames=true)"
   ]
  },
  {
   "cell_type": "markdown",
   "metadata": {},
   "source": [
    "Specify the number of states (values) that each variable can take"
   ]
  },
  {
   "cell_type": "code",
   "execution_count": 4,
   "metadata": {},
   "outputs": [],
   "source": [
    "states = [3, 2, 2, 4];"
   ]
  },
  {
   "cell_type": "code",
   "execution_count": 5,
   "metadata": {},
   "outputs": [
    {
     "data": {
      "text/plain": [
       "lms (generic function with 1 method)"
      ]
     },
     "metadata": {},
     "output_type": "display_data"
    }
   ],
   "source": [
    "lms(x) = BeliefPropagation.MS(log(x))"
   ]
  },
  {
   "cell_type": "markdown",
   "metadata": {},
   "source": [
    "Construct the factors by explicitly providing the values taken for every combination of the inputs"
   ]
  },
  {
   "cell_type": "code",
   "execution_count": 6,
   "metadata": {},
   "outputs": [],
   "source": [
    "ψ₁ = BPFactor(lms.([1.1 0.3;\n",
    "               0.5 2.5]))\n",
    "ψ₂ = BPFactor(lms.([1.0 0.3;\n",
    "               2.3 1.0;\n",
    "               0.0 1.2]))\n",
    "ψ₃ = BPFactor(lms.([0.8 0.0 0.1 0.9;\n",
    "               0.0 2.9 0.7 1.1]))\n",
    "ψ = [ψ₁, ψ₂, ψ₃];"
   ]
  },
  {
   "cell_type": "markdown",
   "metadata": {},
   "source": [
    "Initialize an instance of the `BP` type"
   ]
  },
  {
   "cell_type": "code",
   "execution_count": 7,
   "metadata": {},
   "outputs": [
    {
     "data": {
      "text/plain": [
       "BP{TabulatedBPFactor{BeliefPropagation.MS{Float64}, 2}, UniformFactor{BeliefPropagation.MS{Float64}}, Vector{BeliefPropagation.MS{Float64}}, Vector{BeliefPropagation.MS{Float64}}, FactorGraph{Int64}}(FactorGraph{Int64} with 3 factors, 4 variables and 6 edges\n",
       ", TabulatedBPFactor{BeliefPropagation.MS{Float64}, 2}[TabulatedBPFactor{BeliefPropagation.MS{Float64}, 2}(BeliefPropagation.MS{Float64}[BeliefPropagation.MS{Float64}(0.09531017980432493) BeliefPropagation.MS{Float64}(-1.2039728043259361); BeliefPropagation.MS{Float64}(-0.6931471805599453) BeliefPropagation.MS{Float64}(0.9162907318741551)]), TabulatedBPFactor{BeliefPropagation.MS{Float64}, 2}(BeliefPropagation.MS{Float64}[BeliefPropagation.MS{Float64}(0.0) BeliefPropagation.MS{Float64}(-1.2039728043259361); BeliefPropagation.MS{Float64}(0.8329091229351039) BeliefPropagation.MS{Float64}(0.0); BeliefPropagation.MS{Float64}(-Inf) BeliefPropagation.MS{Float64}(0.1823215567939546)]), TabulatedBPFactor{BeliefPropagation.MS{Float64}, 2}(BeliefPropagation.MS{Float64}[BeliefPropagation.MS{Float64}(-0.2231435513142097) BeliefPropagation.MS{Float64}(-Inf) BeliefPropagation.MS{Float64}(-2.3025850929940455) BeliefPropagation.MS{Float64}(-0.10536051565782628); BeliefPropagation.MS{Float64}(-Inf) BeliefPropagation.MS{Float64}(1.0647107369924282) BeliefPropagation.MS{Float64}(-0.35667494393873245) BeliefPropagation.MS{Float64}(0.09531017980432493)])], [UniformFactor{BeliefPropagation.MS{Float64}}(), UniformFactor{BeliefPropagation.MS{Float64}}(), UniformFactor{BeliefPropagation.MS{Float64}}(), UniformFactor{BeliefPropagation.MS{Float64}}()], Vector{BeliefPropagation.MS{Float64}}[[BeliefPropagation.MS{Float64}(0.0), BeliefPropagation.MS{Float64}(0.0), BeliefPropagation.MS{Float64}(0.0)], [BeliefPropagation.MS{Float64}(0.0), BeliefPropagation.MS{Float64}(0.0)], [BeliefPropagation.MS{Float64}(0.0), BeliefPropagation.MS{Float64}(0.0)], [BeliefPropagation.MS{Float64}(0.0), BeliefPropagation.MS{Float64}(0.0)], [BeliefPropagation.MS{Float64}(0.0), BeliefPropagation.MS{Float64}(0.0)], [BeliefPropagation.MS{Float64}(0.0), BeliefPropagation.MS{Float64}(0.0), BeliefPropagation.MS{Float64}(0.0), BeliefPropagation.MS{Float64}(0.0)]], Vector{BeliefPropagation.MS{Float64}}[[BeliefPropagation.MS{Float64}(0.0), BeliefPropagation.MS{Float64}(0.0), BeliefPropagation.MS{Float64}(0.0)], [BeliefPropagation.MS{Float64}(0.0), BeliefPropagation.MS{Float64}(0.0)], [BeliefPropagation.MS{Float64}(0.0), BeliefPropagation.MS{Float64}(0.0)], [BeliefPropagation.MS{Float64}(0.0), BeliefPropagation.MS{Float64}(0.0)], [BeliefPropagation.MS{Float64}(0.0), BeliefPropagation.MS{Float64}(0.0)], [BeliefPropagation.MS{Float64}(0.0), BeliefPropagation.MS{Float64}(0.0), BeliefPropagation.MS{Float64}(0.0), BeliefPropagation.MS{Float64}(0.0)]], Vector{BeliefPropagation.MS{Float64}}[[BeliefPropagation.MS{Float64}(0.0), BeliefPropagation.MS{Float64}(0.0), BeliefPropagation.MS{Float64}(0.0)], [BeliefPropagation.MS{Float64}(0.0), BeliefPropagation.MS{Float64}(0.0)], [BeliefPropagation.MS{Float64}(0.0), BeliefPropagation.MS{Float64}(0.0)], [BeliefPropagation.MS{Float64}(0.0), BeliefPropagation.MS{Float64}(0.0), BeliefPropagation.MS{Float64}(0.0), BeliefPropagation.MS{Float64}(0.0)]])"
      ]
     },
     "metadata": {},
     "output_type": "display_data"
    }
   ],
   "source": [
    "const MSF = BeliefPropagation.MS{Float64}\n",
    "bp = BP(g, ψ, fill(UniformFactor{MSF}(), nvariables(g)),\n",
    "    [fill(one(MSF), states[dst(e)]) for e in edges(g)],\n",
    "    [fill(one(MSF), states[dst(e)]) for e in edges(g)],\n",
    "    [fill(one(MSF), states[i]) for i in variables(g)])"
   ]
  },
  {
   "cell_type": "markdown",
   "metadata": {},
   "source": [
    "Iterate the BP algorithm for `maxiter` iterations or until the maximum variation in messages between two succesive iterations is less than `tol`"
   ]
  },
  {
   "cell_type": "code",
   "execution_count": 34,
   "metadata": {},
   "outputs": [
    {
     "name": "stdout",
     "output_type": "stream",
     "text": [
      "BP converged in 1 iterations\n"
     ]
    }
   ],
   "source": [
    "fe = init_free_energy(bp)\n",
    "iters = iterate!(bp; maxiter=10, tol=1e-12, f=fe)\n",
    "println(\"BP converged in $iters iterations\")"
   ]
  },
  {
   "cell_type": "code",
   "execution_count": 35,
   "metadata": {},
   "outputs": [
    {
     "data": {
      "text/plain": [
       "-2.163323025660538"
      ]
     },
     "metadata": {},
     "output_type": "display_data"
    }
   ],
   "source": [
    "sum(fe)"
   ]
  },
  {
   "cell_type": "markdown",
   "metadata": {},
   "source": [
    "Compute single-variable marginals (\"beliefs\") $p(x_i)$ $\\forall i$"
   ]
  },
  {
   "cell_type": "code",
   "execution_count": 36,
   "metadata": {},
   "outputs": [
    {
     "data": {
      "text/plain": [
       "4-element Vector{Vector{BeliefPropagation.MS{Float64}}}:\n",
       " [BeliefPropagation.MS{Float64}(-1.3862943611198908), BeliefPropagation.MS{Float64}(-0.1823215567939546), BeliefPropagation.MS{Float64}(0.0)]\n",
       " [BeliefPropagation.MS{Float64}(-1.3404642385789354), BeliefPropagation.MS{Float64}(0.0)]\n",
       " [BeliefPropagation.MS{Float64}(-1.3404642385789354), BeliefPropagation.MS{Float64}(0.0)]\n",
       " [BeliefPropagation.MS{Float64}(-1.4582472742353187), BeliefPropagation.MS{Float64}(0.0), BeliefPropagation.MS{Float64}(-1.4213856809311607), BeliefPropagation.MS{Float64}(-0.9694005571881033)]"
      ]
     },
     "metadata": {},
     "output_type": "display_data"
    }
   ],
   "source": [
    "b = beliefs(bp)"
   ]
  },
  {
   "cell_type": "markdown",
   "metadata": {},
   "source": [
    "Compute factor marginals $p(\\underline{x}_a)$ $\\forall a$"
   ]
  },
  {
   "cell_type": "code",
   "execution_count": 37,
   "metadata": {},
   "outputs": [
    {
     "data": {
      "text/plain": [
       "3-element Vector{Matrix{BeliefPropagation.MS{Float64}}}:\n",
       " [BeliefPropagation.MS{Float64}(-1.3404642385789354) BeliefPropagation.MS{Float64}(-2.120263536200091); BeliefPropagation.MS{Float64}(-2.1289215989432058) BeliefPropagation.MS{Float64}(0.0)]\n",
       " [BeliefPropagation.MS{Float64}(-2.1733733615140394) BeliefPropagation.MS{Float64}(-1.3862943611198908); BeliefPropagation.MS{Float64}(-1.3404642385789354) BeliefPropagation.MS{Float64}(-0.1823215567939546); BeliefPropagation.MS{Float64}(-Inf) BeliefPropagation.MS{Float64}(0.0)]\n",
       " [BeliefPropagation.MS{Float64}(-1.4582472742353187) BeliefPropagation.MS{Float64}(-Inf) BeliefPropagation.MS{Float64}(-3.5376888159151547) BeliefPropagation.MS{Float64}(-1.3404642385789354); BeliefPropagation.MS{Float64}(-Inf) BeliefPropagation.MS{Float64}(0.0) BeliefPropagation.MS{Float64}(-1.4213856809311607) BeliefPropagation.MS{Float64}(-0.9694005571881033)]"
      ]
     },
     "metadata": {},
     "output_type": "display_data"
    }
   ],
   "source": [
    "fb = factor_beliefs(bp)"
   ]
  },
  {
   "cell_type": "markdown",
   "metadata": {},
   "source": [
    "Compute the normalization constant $Z$ and compare with the result of an exhaustive computation"
   ]
  },
  {
   "cell_type": "code",
   "execution_count": null,
   "metadata": {},
   "outputs": [],
   "source": []
  }
 ],
 "metadata": {
  "kernelspec": {
   "display_name": "Julia 1.9.4",
   "language": "julia",
   "name": "julia-1.9"
  },
  "language_info": {
   "file_extension": ".jl",
   "mimetype": "application/julia",
   "name": "julia",
   "version": "1.9.4"
  }
 },
 "nbformat": 4,
 "nbformat_minor": 2
}
