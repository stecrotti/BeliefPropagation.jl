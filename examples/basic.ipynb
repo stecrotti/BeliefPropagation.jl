{
 "cells": [
  {
   "cell_type": "markdown",
   "metadata": {},
   "source": [
    "# A very basic example\n",
    "This notebooks shows the basic mechanics of the package on a toy model with a few variables"
   ]
  },
  {
   "cell_type": "code",
   "execution_count": 1,
   "metadata": {},
   "outputs": [],
   "source": [
    "using BeliefPropagation, BeliefPropagation.FactorGraphs"
   ]
  },
  {
   "cell_type": "markdown",
   "metadata": {},
   "source": [
    "Construct a small factor graph from an adjacency matrix: rows correspond to factors, columns to variables. $A_{a, i}$ is one if variable $i$ is involved in factor $a$, zero otherwise.\n",
    "Here we have 3 factors and 4 variables."
   ]
  },
  {
   "cell_type": "code",
   "execution_count": 2,
   "metadata": {},
   "outputs": [
    {
     "data": {
      "text/plain": [
       "FactorGraph{Int64} with 3 factors, 4 variables and 5 edges\n"
      ]
     },
     "metadata": {},
     "output_type": "display_data"
    }
   ],
   "source": [
    "A = [0 1 1 0;\n",
    "     1 0 0 0;\n",
    "     0 0 1 1]\n",
    "g = FactorGraph(A)"
   ]
  },
  {
   "cell_type": "markdown",
   "metadata": {},
   "source": [
    "Specify the number of states (values) that each variable can take"
   ]
  },
  {
   "cell_type": "code",
   "execution_count": 3,
   "metadata": {},
   "outputs": [],
   "source": [
    "states = [3, 2, 2, 4];"
   ]
  },
  {
   "cell_type": "markdown",
   "metadata": {},
   "source": [
    "Construct the factors by explicitly providing the values taken for every combination of the inputs"
   ]
  },
  {
   "cell_type": "code",
   "execution_count": 4,
   "metadata": {},
   "outputs": [],
   "source": [
    "ψ₁ = BPFactor([1.1 0.3;\n",
    "               0.5 2.5])\n",
    "ψ₂ = BPFactor([1.0, 0.3, 1.0])\n",
    "ψ₃ = BPFactor([0.8 0.0 0.1 0.9;\n",
    "               0.0 2.9 0.7 1.1])\n",
    "ψ = [ψ₁, ψ₂, ψ₃];"
   ]
  },
  {
   "cell_type": "markdown",
   "metadata": {},
   "source": [
    "Initialize an instance of the `BP` type"
   ]
  },
  {
   "cell_type": "code",
   "execution_count": 5,
   "metadata": {},
   "outputs": [],
   "source": [
    "bp = BP(g, ψ, states);"
   ]
  },
  {
   "cell_type": "markdown",
   "metadata": {},
   "source": [
    "Iterate the BP algorithm for `maxiter` iterations or until the maximum variation in messages between two succesive iterations is less than `tol`"
   ]
  },
  {
   "cell_type": "code",
   "execution_count": 6,
   "metadata": {},
   "outputs": [
    {
     "name": "stdout",
     "output_type": "stream",
     "text": [
      "BP converged in 2 iterations\n"
     ]
    }
   ],
   "source": [
    "iters = iterate!(bp; maxiter=10, tol=1e-12)\n",
    "println(\"BP converged in $iters iterations\")"
   ]
  },
  {
   "cell_type": "markdown",
   "metadata": {},
   "source": [
    "Compute single-variable marginals (\"beliefs\") $p(x_i)$ $\\forall i$"
   ]
  },
  {
   "cell_type": "code",
   "execution_count": 7,
   "metadata": {},
   "outputs": [
    {
     "data": {
      "text/plain": [
       "4-element Vector{Vector{Float64}}:\n",
       " [0.4347826086956522, 0.13043478260869565, 0.4347826086956522]\n",
       " [0.2113466334164589, 0.7886533665835411]\n",
       " [0.1795511221945138, 0.8204488778054863]\n",
       " [0.07980049875311722, 0.5062344139650873, 0.13216957605985036, 0.2817955112219451]"
      ]
     },
     "metadata": {},
     "output_type": "display_data"
    }
   ],
   "source": [
    "b = beliefs(bp)"
   ]
  },
  {
   "cell_type": "markdown",
   "metadata": {},
   "source": [
    "Compute factor marginals $p(\\underline{x}_a)$ $\\forall a$"
   ]
  },
  {
   "cell_type": "code",
   "execution_count": 8,
   "metadata": {},
   "outputs": [
    {
     "data": {
      "text/plain": [
       "3-element Vector{Array{Float64}}:\n",
       " [0.12344139650872823 0.08790523690773067; 0.05610972568578555 0.7325436408977556]\n",
       " [0.43478260869565216, 0.13043478260869565, 0.43478260869565216]\n",
       " [0.07980049875311723 0.0 0.009975062344139654 0.08977556109725689; 0.0 0.5062344139650874 0.12219451371571073 0.1920199501246883]"
      ]
     },
     "metadata": {},
     "output_type": "display_data"
    }
   ],
   "source": [
    "fb = factor_beliefs(bp)"
   ]
  },
  {
   "cell_type": "markdown",
   "metadata": {},
   "source": [
    "Compute other observables"
   ]
  },
  {
   "cell_type": "code",
   "execution_count": 9,
   "metadata": {},
   "outputs": [
    {
     "data": {
      "text/plain": [
       "36.89200000000004"
      ]
     },
     "metadata": {},
     "output_type": "display_data"
    }
   ],
   "source": [
    "f_bethe = bethe_free_energy(bp)\n",
    "z_bethe = exp(-f_bethe)"
   ]
  },
  {
   "cell_type": "code",
   "execution_count": 12,
   "metadata": {},
   "outputs": [
    {
     "data": {
      "text/plain": [
       "36.891999999999996"
      ]
     },
     "metadata": {},
     "output_type": "display_data"
    }
   ],
   "source": [
    "z = sum(ψ₁([x₂,x₃]) * ψ₂([x₁]) * ψ₃([x₃, x₄])\n",
    "    for x₁ in 1:3, x₂ in 1:2, x₃ in 1:2, x₄ in 1:4)"
   ]
  }
 ],
 "metadata": {
  "kernelspec": {
   "display_name": "Julia 1.9.3",
   "language": "julia",
   "name": "julia-1.9"
  },
  "language_info": {
   "file_extension": ".jl",
   "mimetype": "application/julia",
   "name": "julia",
   "version": "1.9.3"
  }
 },
 "nbformat": 4,
 "nbformat_minor": 2
}
