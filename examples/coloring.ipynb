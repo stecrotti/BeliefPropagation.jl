{
 "cells": [
  {
   "cell_type": "markdown",
   "metadata": {},
   "source": [
    "# Coloring of a random graph using Belief Propagation\n",
    "\n",
    "Given a graph $G=(V,E)$ and an integer $q$, a valid coloring is an assignment mapping each vertex in $G$ to a color (i.e. an integer in $\\{1,2,\\ldots,q\\}$) such that no edge connects two nodes with the same color.\n",
    "One way to solve the problem is to write a probability distribution over all the possible assignments giving non-zero weights to the valid ones, zero otherwise\n",
    "$$p(x)\\propto \\prod_{(ij)\\in E}\\left[1-\\delta(x_i,x_j)\\right]$$\n",
    "which is then approximated via BP."
   ]
  },
  {
   "cell_type": "code",
   "execution_count": 27,
   "metadata": {
    "ExecuteTime": {
     "start_time": "2024-11-07T16:31:45.078Z"
    }
   },
   "outputs": [],
   "source": [
    "using Graphs, IndexedGraphs, IndexedFactorGraphs\n",
    "using BeliefPropagation, BeliefPropagation.Models\n",
    "using Random\n",
    "using GraphRecipes, Plots"
   ]
  },
  {
   "cell_type": "code",
   "execution_count": 28,
   "metadata": {
    "ExecuteTime": {
     "start_time": "2024-11-07T16:31:45.506Z"
    }
   },
   "outputs": [
    {
     "data": {
      "text/plain": [
       "is_valid_coloring (generic function with 1 method)"
      ]
     },
     "metadata": {},
     "output_type": "display_data"
    }
   ],
   "source": [
    "# try to find a valid coloring using BP\n",
    "function try_coloring(g::SimpleGraph, q::Integer; \n",
    "        maxiter=100, tol=1e-8, damp=0.5, rein=1e-2)\n",
    "    N = nv(g)\n",
    "    gp = pairwise_interaction_graph(IndexedGraph(g))\n",
    "    ψ = fill(ColoringCoupling(), ne(g))\n",
    "    ϕ = map(1:N) do i\n",
    "        ϕᵢ = exp.(1e-6*randn(MersenneTwister(seed), q))\n",
    "        BPFactor(ϕᵢ)\n",
    "    end\n",
    "    states = fill(q, N)\n",
    "    bp = BP(gp, ψ, states; ϕ)\n",
    "    iterate!(bp; maxiter, tol, damp, rein)\n",
    "    x = argmax.(beliefs(bp))\n",
    "    return x\n",
    "end\n",
    "\n",
    "# compute the number of monochromatic edges, i.e. those with\n",
    "#  the same color at both ends\n",
    "function n_monochromatic(x, g::SimpleGraph)\n",
    "    en = 0\n",
    "    for e in edges(g)\n",
    "        i = src(e); j = dst(e)\n",
    "        en += x[i] == x[j]\n",
    "    end\n",
    "    return en\n",
    "end\n",
    "\n",
    "function is_valid_coloring(x, g::SimpleGraph)\n",
    "    return n_monochromatic(x, g) == 0\n",
    "end"
   ]
  },
  {
   "cell_type": "code",
   "execution_count": 47,
   "metadata": {
    "ExecuteTime": {
     "start_time": "2024-11-07T16:31:50.816Z"
    }
   },
   "outputs": [
    {
     "data": {
      "text/plain": [
       "true"
      ]
     },
     "metadata": {},
     "output_type": "display_data"
    }
   ],
   "source": [
    "q = 3\n",
    "N = 100\n",
    "c = 2.5\n",
    "seed = 1\n",
    "\n",
    "g = erdos_renyi(N, round(Int, N*c/2); seed)\n",
    "\n",
    "maxiter = 10^3\n",
    "tol = 1e-8\n",
    "damp = 0.5\n",
    "rein = 1e-2\n",
    "\n",
    "x = try_coloring(g, q; maxiter, tol, damp, rein)\n",
    "is_valid_coloring(x, g)"
   ]
  }
 ],
 "metadata": {
  "kernelspec": {
   "display_name": "Julia 1.11.1",
   "language": "julia",
   "name": "julia-1.11"
  },
  "language_info": {
   "file_extension": ".jl",
   "mimetype": "application/julia",
   "name": "julia",
   "version": "1.11.1"
  }
 },
 "nbformat": 4,
 "nbformat_minor": 2
}
