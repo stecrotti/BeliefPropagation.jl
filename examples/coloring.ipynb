{
 "cells": [
  {
   "cell_type": "markdown",
   "metadata": {},
   "source": [
    "# Coloring a random graph using Belief Propagation\n",
    "\n",
    "Given a graph $G=(V,E)$ and an integer $q$, a valid coloring is an assignment mapping each vertex in $G$ to a color (i.e. an integer in $\\{1,2,\\ldots,q\\}$) such that no edge connects two nodes with the same color.\n",
    "One way to solve the problem is to write a probability distribution over all the possible assignments giving non-zero weights to the valid ones, zero otherwise\n",
    "$$p(x)\\propto \\prod_{(ij)\\in E}\\left[1-\\delta(x_i,x_j)\\right]$$\n",
    "which is then approximated via BP."
   ]
  },
  {
   "cell_type": "code",
   "execution_count": 1,
   "metadata": {
    "ExecuteTime": {
     "start_time": "2024-11-07T16:31:45.078Z"
    }
   },
   "outputs": [
    {
     "ename": "ArgumentError",
     "evalue": "ArgumentError: Package GraphRecipes not found in current path.\n- Run `import Pkg; Pkg.add(\"GraphRecipes\")` to install the GraphRecipes package.",
     "output_type": "error",
     "traceback": [
      "ArgumentError: Package GraphRecipes not found in current path.\n",
      "- Run `import Pkg; Pkg.add(\"GraphRecipes\")` to install the GraphRecipes package.\n",
      "\n",
      "Stacktrace:\n",
      "  [1] macro expansion\n",
      "    @ .\\loading.jl:2296 [inlined]\n",
      "  [2] macro expansion\n",
      "    @ .\\lock.jl:273 [inlined]\n",
      "  [3] __require(into::Module, mod::Symbol)\n",
      "    @ Base .\\loading.jl:2271\n",
      "  [4] #invoke_in_world#3\n",
      "    @ .\\essentials.jl:1089 [inlined]\n",
      "  [5] invoke_in_world\n",
      "    @ .\\essentials.jl:1086 [inlined]\n",
      "  [6] require(into::Module, mod::Symbol)\n",
      "    @ Base .\\loading.jl:2260\n",
      "  [7] eval\n",
      "    @ .\\boot.jl:430 [inlined]\n",
      "  [8] include_string(mapexpr::typeof(REPL.softscope), mod::Module, code::String, filename::String)\n",
      "    @ Base .\\loading.jl:2734\n",
      "  [9] #invokelatest#2\n",
      "    @ .\\essentials.jl:1055 [inlined]\n",
      " [10] invokelatest\n",
      "    @ .\\essentials.jl:1052 [inlined]\n",
      " [11] (::VSCodeServer.var\"#217#218\"{VSCodeServer.NotebookRunCellArguments, String})()\n",
      "    @ VSCodeServer c:\\Users\\sky_9\\.vscode\\extensions\\julialang.language-julia-1.149.2\\scripts\\packages\\VSCodeServer\\src\\serve_notebook.jl:24\n",
      " [12] withpath(f::VSCodeServer.var\"#217#218\"{VSCodeServer.NotebookRunCellArguments, String}, path::String)\n",
      "    @ VSCodeServer c:\\Users\\sky_9\\.vscode\\extensions\\julialang.language-julia-1.149.2\\scripts\\packages\\VSCodeServer\\src\\repl.jl:276\n",
      " [13] notebook_runcell_request(conn::VSCodeServer.JSONRPC.JSONRPCEndpoint{Base.PipeEndpoint, Base.PipeEndpoint, VSCodeServer.JSON.Serializations.StandardSerialization}, params::VSCodeServer.NotebookRunCellArguments, token::VSCodeServer.CancellationTokens.CancellationToken)\n",
      "    @ VSCodeServer c:\\Users\\sky_9\\.vscode\\extensions\\julialang.language-julia-1.149.2\\scripts\\packages\\VSCodeServer\\src\\serve_notebook.jl:13\n",
      " [14] dispatch_msg(x::VSCodeServer.JSONRPC.JSONRPCEndpoint{Base.PipeEndpoint, Base.PipeEndpoint, VSCodeServer.JSON.Serializations.StandardSerialization}, dispatcher::VSCodeServer.JSONRPC.MsgDispatcher, msg::VSCodeServer.JSONRPC.Request)\n",
      "    @ VSCodeServer.JSONRPC c:\\Users\\sky_9\\.vscode\\extensions\\julialang.language-julia-1.149.2\\scripts\\packages\\JSONRPC\\src\\typed.jl:68\n",
      " [15] serve_notebook(pipename::String, debugger_pipename::String, outputchannel_logger::Base.CoreLogging.SimpleLogger; error_handler::var\"#5#10\"{String})\n",
      "    @ VSCodeServer c:\\Users\\sky_9\\.vscode\\extensions\\julialang.language-julia-1.149.2\\scripts\\packages\\VSCodeServer\\src\\serve_notebook.jl:147\n",
      " [16] top-level scope\n",
      "    @ c:\\Users\\sky_9\\.vscode\\extensions\\julialang.language-julia-1.149.2\\scripts\\notebook\\notebook.jl:35"
     ]
    }
   ],
   "source": [
    "using Graphs, IndexedGraphs, IndexedFactorGraphs\n",
    "using BeliefPropagation, BeliefPropagation.Models\n",
    "using Random\n",
    "using GraphRecipes, Plots"
   ]
  },
  {
   "cell_type": "code",
   "execution_count": 5,
   "metadata": {
    "ExecuteTime": {
     "start_time": "2024-11-07T16:31:45.506Z"
    }
   },
   "outputs": [
    {
     "data": {
      "text/plain": [
       "is_valid_coloring (generic function with 1 method)"
      ]
     },
     "metadata": {},
     "output_type": "display_data"
    }
   ],
   "source": [
    "# try to find a valid coloring using BP\n",
    "function try_coloring(g::IndexedGraph, q::Integer; \n",
    "        maxiter=100, tol=1e-8, damp=0.5, rein=1e-2)\n",
    "    N = nv(g)\n",
    "    gp = pairwise_interaction_graph(g)\n",
    "    ψ = fill(ColoringCoupling(), ne(g))\n",
    "    # a small symmetry-breaking vertex prior\n",
    "    ϕ = map(1:N) do i\n",
    "        ϕᵢ = exp.(1e-6*randn(MersenneTwister(seed), q))\n",
    "        BPFactor(ϕᵢ)\n",
    "    end\n",
    "    states = fill(q, N)\n",
    "    bp = BP(gp, ψ, states; ϕ)\n",
    "    iterate!(bp; maxiter, tol, damp, rein)\n",
    "    x = argmax.(beliefs(bp))\n",
    "    return x\n",
    "end\n",
    "\n",
    "# compute the number of monochromatic edges, i.e. those with\n",
    "#  the same color at both ends\n",
    "function n_monochromatic(x, g::IndexedGraph)\n",
    "    en = 0\n",
    "    for e in edges(g)\n",
    "        i = src(e); j = dst(e)\n",
    "        en += x[i] == x[j]\n",
    "    end\n",
    "    return en\n",
    "end\n",
    "\n",
    "function is_valid_coloring(x, g::IndexedGraph)\n",
    "    return n_monochromatic(x, g) == 0\n",
    "end"
   ]
  },
  {
   "cell_type": "code",
   "execution_count": 25,
   "metadata": {
    "ExecuteTime": {
     "start_time": "2024-11-07T16:31:50.816Z"
    }
   },
   "outputs": [
    {
     "data": {
      "text/plain": [
       "true"
      ]
     },
     "metadata": {},
     "output_type": "display_data"
    }
   ],
   "source": [
    "q = 3\n",
    "N = 30\n",
    "c = 2.5\n",
    "seed = 1\n",
    "\n",
    "# Sample a random graph and keep only the largest connected component\n",
    "gg = erdos_renyi(N, round(Int, N*c/2); seed)\n",
    "cc = first(connected_components(gg))\n",
    "A = adjacency_matrix(gg)[cc,cc]\n",
    "g = IndexedGraph(A)\n",
    "\n",
    "maxiter = 10^4\n",
    "tol = 1e-8\n",
    "damp = 0.0\n",
    "rein = 1e-3\n",
    "\n",
    "# reinforcement is used to bias BP to a single one out of the many\n",
    "#  possible solutions\n",
    "x = try_coloring(g, q; maxiter, tol, damp, rein)\n",
    "is_valid_coloring(x, g)"
   ]
  },
  {
   "cell_type": "code",
   "execution_count": 4,
   "metadata": {},
   "outputs": [
    {
     "ename": "UndefVarError",
     "evalue": "UndefVarError: `graphplot` not defined in `Main`\nSuggestion: check for spelling errors or missing imports.",
     "output_type": "error",
     "traceback": [
      "UndefVarError: `graphplot` not defined in `Main`\n",
      "Suggestion: check for spelling errors or missing imports.\n",
      "\n",
      "Stacktrace:\n",
      " [1] top-level scope\n",
      "   @ c:\\Users\\sky_9\\projects\\BeliefPropagation\\examples\\jl_notebook_cell_df34fa98e69747e1a8f8a730347b8e2f_W4sZmlsZQ==.jl:3"
     ]
    }
   ],
   "source": [
    "colors = [:red, :green, :blue]\n",
    "\n",
    "graphplot(\n",
    "    g,\n",
    "    curves = false,\n",
    "    nodecolor = [colors[i] for i in x],\n",
    "    markersize = 0.15,\n",
    "    nodeshape = :circle\n",
    ")"
   ]
  }
 ],
 "metadata": {
  "kernelspec": {
   "display_name": "Julia 1.11.5",
   "language": "julia",
   "name": "julia-1.11"
  },
  "language_info": {
   "file_extension": ".jl",
   "mimetype": "application/julia",
   "name": "julia",
   "version": "1.11.5"
  }
 },
 "nbformat": 4,
 "nbformat_minor": 2
}
