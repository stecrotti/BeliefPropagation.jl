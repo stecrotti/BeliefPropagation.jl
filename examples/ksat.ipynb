{
 "cells": [
  {
   "cell_type": "markdown",
   "metadata": {},
   "source": [
    "# Solution of k-SAT formulas via BP + reinforcement\n",
    "\n",
    "\n",
    "Draw a random 3-SAT formula and try to solve it using Belief Propagation. Reinforcement is necessary to break the symmetry: BP gives a uniform measure over all SAT assignments, we are only interested in finding one"
   ]
  },
  {
   "cell_type": "code",
   "execution_count": 1,
   "metadata": {},
   "outputs": [],
   "source": [
    "using BeliefPropagation, BeliefPropagation.Models\n",
    "using Random, IndexedFactorGraphs"
   ]
  },
  {
   "cell_type": "markdown",
   "metadata": {},
   "source": [
    "Draw a random formula with $N$ variables and $M$ clauses"
   ]
  },
  {
   "cell_type": "code",
   "execution_count": 2,
   "metadata": {},
   "outputs": [],
   "source": [
    "rng = MersenneTwister(0)\n",
    "n = 100\n",
    "m = 50\n",
    "k = 3\n",
    "g = rand_regular_factor_graph(rng, n, m, k)\n",
    "ψ = [KSATClause(bitrand(rng, length(neighbors(g, f_vertex(a))))) \n",
    "    for a in eachfactor(g)]\n",
    "bp = fast_ksat_bp(g, ψ);"
   ]
  },
  {
   "cell_type": "markdown",
   "metadata": {},
   "source": [
    "Run BP"
   ]
  },
  {
   "cell_type": "code",
   "execution_count": 3,
   "metadata": {},
   "outputs": [
    {
     "name": "stderr",
     "output_type": "stream",
     "text": [
      "\u001b[32mRunning BP   0%|█                                        |  ETA: 0:22:37\u001b[39m\u001b[K"
     ]
    },
    {
     "data": {
      "text/plain": [
       "39"
      ]
     },
     "metadata": {},
     "output_type": "display_data"
    }
   ],
   "source": [
    "iters = iterate!(bp; maxiter=1000, tol=1e-14, rein=5e-2)"
   ]
  },
  {
   "cell_type": "markdown",
   "metadata": {},
   "source": [
    "Given the beliefs $\\{b_i\\}_i$, our guess for the solving assignment is\n",
    "$$ x_i^* = \\arg\\max_{x_i} b_i(x_i)$$"
   ]
  },
  {
   "cell_type": "code",
   "execution_count": 4,
   "metadata": {},
   "outputs": [
    {
     "data": {
      "text/plain": [
       "1×100 adjoint(::Vector{Int64}) with eltype Int64:\n",
       " 0  0  0  0  0  1  0  0  1  0  1  0  0  …  1  0  0  1  0  0  1  0  0  1  0  0"
      ]
     },
     "metadata": {},
     "output_type": "display_data"
    }
   ],
   "source": [
    "xstar = argmax.(beliefs(bp)) .- 1   # the -1 is needed because beach belief has indices (1,2), corresponding to values (0,1), respectively\n",
    "xstar'"
   ]
  },
  {
   "cell_type": "markdown",
   "metadata": {},
   "source": [
    "Check that the assignment satisfies the formula:"
   ]
  },
  {
   "cell_type": "code",
   "execution_count": 5,
   "metadata": {},
   "outputs": [
    {
     "name": "stdout",
     "output_type": "stream",
     "text": [
      "Number of unsatisfied clauses: 0\n"
     ]
    }
   ],
   "source": [
    "nunsat = sum(!(Bool(bp.ψ[a](xstar[i]+1 for i in neighbors(bp.g, f_vertex(a))))) \n",
    "    for a in eachfactor(bp.g))\n",
    "println(\"Number of unsatisfied clauses: $nunsat\")"
   ]
  }
 ],
 "metadata": {
  "kernelspec": {
   "display_name": "Julia 1.11.5",
   "language": "julia",
   "name": "julia-1.11"
  },
  "language_info": {
   "file_extension": ".jl",
   "mimetype": "application/julia",
   "name": "julia",
   "version": "1.11.5"
  }
 },
 "nbformat": 4,
 "nbformat_minor": 2
}
