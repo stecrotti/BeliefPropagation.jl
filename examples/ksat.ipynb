{
 "cells": [
  {
   "cell_type": "markdown",
   "metadata": {},
   "source": [
    "# Solution of k-SAT formulas via BP + reinforcement\n",
    "\n",
    "\n",
    "Draw a random 3-SAT formula and try to solve it using Belief Propagation. Reinforcement is necessary to break the symmetry :BP gives a uniform measure over all SAT assignments, we are only interested in finding one"
   ]
  },
  {
   "cell_type": "code",
   "execution_count": 12,
   "metadata": {},
   "outputs": [],
   "source": [
    "using BeliefPropagation, BeliefPropagation.Models, Random"
   ]
  },
  {
   "cell_type": "markdown",
   "metadata": {},
   "source": [
    "Draw a random formula with $N$ variables and $M$ clauses"
   ]
  },
  {
   "cell_type": "code",
   "execution_count": 14,
   "metadata": {},
   "outputs": [],
   "source": [
    "rng = MersenneTwister(0)\n",
    "n = 100\n",
    "m = 100\n",
    "k = 3\n",
    "g = rand_regular_factor_graph(rng, n, m, k)\n",
    "ψ = [KSATClause(bitrand(rng, length(neighbors(g, factor(a))))) for a in factors(g)]\n",
    "bp = BP(g, ψ, fill(2, nvariables(g)));"
   ]
  },
  {
   "cell_type": "markdown",
   "metadata": {},
   "source": [
    "Run BP"
   ]
  },
  {
   "cell_type": "code",
   "execution_count": 15,
   "metadata": {},
   "outputs": [
    {
     "data": {
      "text/plain": [
       "43"
      ]
     },
     "metadata": {},
     "output_type": "display_data"
    }
   ],
   "source": [
    "iters = iterate!(bp; maxiter=1000, tol=1e-12, rein=5e-2)"
   ]
  },
  {
   "cell_type": "markdown",
   "metadata": {},
   "source": [
    "Given the beliefs $\\{b_i\\}_i$, our guess for the solving assignment is\n",
    "$$ x_i^* = \\arg\\max_{x_i} b_i(x_i)$$"
   ]
  },
  {
   "cell_type": "code",
   "execution_count": 16,
   "metadata": {},
   "outputs": [],
   "source": [
    "xstar = argmax.(beliefs(bp));"
   ]
  },
  {
   "cell_type": "markdown",
   "metadata": {},
   "source": [
    "Check that the assignment satisfies the formula:"
   ]
  },
  {
   "cell_type": "code",
   "execution_count": 17,
   "metadata": {},
   "outputs": [
    {
     "data": {
      "text/plain": [
       "0"
      ]
     },
     "metadata": {},
     "output_type": "display_data"
    }
   ],
   "source": [
    "nunsat = sum(1 - Int(bp.ψ[a](xstar[i] for i in neighbors(bp.g, factor(a)))) for a in factors(bp.g))"
   ]
  }
 ],
 "metadata": {
  "kernelspec": {
   "display_name": "Julia 1.10.0",
   "language": "julia",
   "name": "julia-1.10"
  },
  "language_info": {
   "file_extension": ".jl",
   "mimetype": "application/julia",
   "name": "julia",
   "version": "1.10.0"
  }
 },
 "nbformat": 4,
 "nbformat_minor": 2
}
