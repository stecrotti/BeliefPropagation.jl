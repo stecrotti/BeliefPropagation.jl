{
 "cells": [
  {
   "cell_type": "markdown",
   "metadata": {},
   "source": [
    "# Low Density Parity Check decoding with Belief Propagation"
   ]
  },
  {
   "cell_type": "code",
   "execution_count": 21,
   "metadata": {},
   "outputs": [],
   "source": [
    "using IndexedFactorGraphs\n",
    "using BeliefPropagation, BeliefPropagation.Models\n",
    "using LDPCStorage, AbstractAlgebra\n",
    "using Random"
   ]
  },
  {
   "cell_type": "markdown",
   "metadata": {},
   "source": [
    "Load a parity check matrix with $n$ variables and $m$ checks"
   ]
  },
  {
   "cell_type": "code",
   "execution_count": 22,
   "metadata": {},
   "outputs": [
    {
     "data": {
      "text/plain": [
       "(544, 816)"
      ]
     },
     "metadata": {},
     "output_type": "display_data"
    }
   ],
   "source": [
    "f = download(\"https://www.inference.org.uk/mackay/codes/EN/C/816.1A4.843\",\n",
    "    \"/tmp/ldpc.alist\")\n",
    "H = load_alist(\"/tmp/ldpc.alist\")\n",
    "m, n = size(H)"
   ]
  },
  {
   "cell_type": "markdown",
   "metadata": {},
   "source": [
    "Compute the corresponding generator matrix"
   ]
  },
  {
   "cell_type": "code",
   "execution_count": 36,
   "metadata": {},
   "outputs": [
    {
     "data": {
      "text/plain": [
       "273"
      ]
     },
     "metadata": {},
     "output_type": "display_data"
    }
   ],
   "source": [
    "kerH = nullspace(matrix(GF(2), Matrix(H)))[2]\n",
    "G = collect(kerH .== 1)\n",
    "@assert size(G, 1) == n\n",
    "k = size(G, 2)"
   ]
  },
  {
   "cell_type": "markdown",
   "metadata": {},
   "source": [
    "Sample a random codeword $x$ from the ensemble"
   ]
  },
  {
   "cell_type": "code",
   "execution_count": 37,
   "metadata": {},
   "outputs": [],
   "source": [
    "x = G * bitrand(k) .% 2\n",
    "@assert sum(H*x .% 2) == 0"
   ]
  },
  {
   "cell_type": "markdown",
   "metadata": {},
   "source": [
    "Corrupt the codeword by flipping bits with probability $p$, obtain $y$"
   ]
  },
  {
   "cell_type": "code",
   "execution_count": 38,
   "metadata": {},
   "outputs": [
    {
     "name": "stdout",
     "output_type": "stream",
     "text": [
      "# of flipped bits: 37/816\n"
     ]
    }
   ],
   "source": [
    "p = 0.05\n",
    "noise = rand(n) .< p\n",
    "y = xor.(x, noise)\n",
    "println(\"# of flipped bits: \", sum(noise), \"/$n\")"
   ]
  },
  {
   "cell_type": "markdown",
   "metadata": {},
   "source": [
    "The problem of decoding linear codes is equivalent to that of finding the minimum energy configuration of an Ising model with many-body interactions (read more about this [here](https://arxiv.org/abs/cond-mat/9811406)). Set up the BP computation:"
   ]
  },
  {
   "cell_type": "code",
   "execution_count": 39,
   "metadata": {},
   "outputs": [],
   "source": [
    "g = FactorGraph(H)\n",
    "ψ = fill(IsingCoupling(n), m)\n",
    "ϕ = IsingField.(float.(1 .- 2y))\n",
    "bp = fast_ising_bp(g, ψ, ϕ);"
   ]
  },
  {
   "cell_type": "markdown",
   "metadata": {},
   "source": [
    "Run the max-sum algorithm"
   ]
  },
  {
   "cell_type": "code",
   "execution_count": 40,
   "metadata": {},
   "outputs": [
    {
     "data": {
      "text/plain": [
       "12"
      ]
     },
     "metadata": {},
     "output_type": "display_data"
    }
   ],
   "source": [
    "iters = iterate_ms!(bp; maxiter=100, tol=1e-8)"
   ]
  },
  {
   "cell_type": "markdown",
   "metadata": {},
   "source": [
    "Use the marginals to perform the decoding and get the estimate $\\hat{x}$"
   ]
  },
  {
   "cell_type": "code",
   "execution_count": 41,
   "metadata": {},
   "outputs": [],
   "source": [
    "xhat = [argmax(bᵢ)==2 for bᵢ in beliefs_ms(bp)];"
   ]
  },
  {
   "cell_type": "markdown",
   "metadata": {},
   "source": [
    "Evaluate the performance by computing the normalized hamming distance $d=\\frac{1}{n}\\sum_{i=1}^n\\delta_{\\hat{x}_i,x_i}$"
   ]
  },
  {
   "cell_type": "code",
   "execution_count": 42,
   "metadata": {},
   "outputs": [
    {
     "name": "stdout",
     "output_type": "stream",
     "text": [
      "Distortion: 0.0\n"
     ]
    }
   ],
   "source": [
    "d = sum(xhat .!= x) / n\n",
    "println(\"Distortion: \", d)"
   ]
  }
 ],
 "metadata": {
  "kernelspec": {
   "display_name": "Julia 1.10.2",
   "language": "julia",
   "name": "julia-1.10"
  },
  "language_info": {
   "file_extension": ".jl",
   "mimetype": "application/julia",
   "name": "julia",
   "version": "1.10.2"
  }
 },
 "nbformat": 4,
 "nbformat_minor": 2
}
