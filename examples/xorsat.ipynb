{
 "cells": [
  {
   "cell_type": "code",
   "execution_count": 3,
   "metadata": {},
   "outputs": [
    {
     "name": "stderr",
     "output_type": "stream",
     "text": [
      "\u001b[36m\u001b[1m[ \u001b[22m\u001b[39m\u001b[36m\u001b[1mInfo: \u001b[22m\u001b[39mPrecompiling BeliefPropagation [f47dce41-c8ad-4b69-b8b4-f2a36c7ebdf8]\n"
     ]
    }
   ],
   "source": [
    "using BeliefPropagation\n",
    "using BeliefPropagation.Models\n",
    "using BeliefPropagation.FactorGraphs"
   ]
  },
  {
   "cell_type": "code",
   "execution_count": 4,
   "metadata": {},
   "outputs": [],
   "source": [
    "import BeliefPropagation: ConvergenceChecker\n",
    "struct BeliefSignConvergence{F<:Real,T<:Integer} <: ConvergenceChecker\n",
    "    b       :: Vector{F}    \n",
    "    ntarget :: T\n",
    "    n       :: Vector{T}\n",
    "end\n",
    "function belief_sign_convergence(bp, ntarget)\n",
    "    BeliefSignConvergence(copy(bp.b), ntarget, [0])\n",
    "end\n",
    "\n",
    "function (convergence_check::BeliefSignConvergence)(bp, errv, errf, errb)\n",
    "    bnew = bp.b\n",
    "    bold = convergence_check.b\n",
    "    unchanged = !any(sign(bnewi) != sign(boldi) for (bnewi, boldi) in zip(bnew, bold))\n",
    "    if unchanged \n",
    "        convergence_check.n[1] += 1\n",
    "    else\n",
    "        convergence_check.n[1] = 0\n",
    "    end \n",
    "    convergence_check.b .= bnew\n",
    "    return convergence_check.n[1] == convergence_check.ntarget \n",
    "end"
   ]
  },
  {
   "cell_type": "code",
   "execution_count": 5,
   "metadata": {},
   "outputs": [
    {
     "data": {
      "text/plain": [
       "sweep (generic function with 2 methods)"
      ]
     },
     "execution_count": 5,
     "metadata": {},
     "output_type": "execute_result"
    }
   ],
   "source": [
    "function nunsat(bp::BP)\n",
    "    @assert !any(isequal(0), bp.b)\n",
    "    sum(Int((1 - prod(sign, bp.b[i] for i in neighbors(bp.g, factor(a)))) / 2)\n",
    "        for a in factors(bp.g))\n",
    "end\n",
    "\n",
    "function solve_xorsat(n::Integer, γ::Real, k::Integer=3; bp_args...)\n",
    "    m = round(Int, n*γ)\n",
    "    g = rand_regular_factor_graph(n, m, k) \n",
    "    ψ = fill(IsingCoupling(1), m)\n",
    "    ϕ = IsingField.(1e-8 * randn(n))\n",
    "    bp = fast_ising_bp(g, ψ, ϕ)\n",
    "    iters = iterate_ms!(bp; check_convergence=belief_sign_convergence(bp, 5), bp_args...)\n",
    "    return nunsat(bp)\n",
    "end\n",
    "\n",
    "function sweep(ns, γs, k::Integer=3; nsamples=fill(10^2, length(ns)), bp_args...)\n",
    "    map(ns, nsamples) do n, nsam\n",
    "        println(\"Size $n\")\n",
    "        map(γs) do γ\n",
    "            println(\"\\tDensity $γ\")\n",
    "            map(1:nsam) do _\n",
    "                E = solve_xorsat(n, γ, k; bp_args...)\n",
    "                E / n\n",
    "            end\n",
    "        end\n",
    "    end\n",
    "end"
   ]
  },
  {
   "cell_type": "code",
   "execution_count": 6,
   "metadata": {},
   "outputs": [
    {
     "name": "stdout",
     "output_type": "stream",
     "text": [
      "Size 100\n",
      "\tDensity 0.7\n"
     ]
    }
   ],
   "source": [
    "ns = Int.([1e2, 1e3, 1e4])\n",
    "γs = LinRange(0.7,0.9,10)\n",
    "nsamples = [500, 50, 10] \n",
    "es = sweep(ns, γs; nsamples, maxiter=10^3, tol=0.0, rein=1e-3);"
   ]
  },
  {
   "cell_type": "code",
   "execution_count": null,
   "metadata": {},
   "outputs": [
    {
     "ename": "UndefVarError",
     "evalue": "UndefVarError: `es` not defined",
     "output_type": "error",
     "traceback": [
      "UndefVarError: `es` not defined\n",
      "\n",
      "Stacktrace:\n",
      " [1] top-level scope\n",
      "   @ ~/.julia/dev/BeliefPropagation/examples/xorsat.ipynb:5"
     ]
    }
   ],
   "source": [
    "using Statistics, Plots, ColorSchemes\n",
    "\n",
    "cg = cgrad(:copper, length(ns), categorical=true)\n",
    "pl = plot(xlabel=\"γ\", ylabel=\"E\")\n",
    "for (i, en) in pairs(es)\n",
    "    n = ns[i]\n",
    "    plot!(pl, γs, mean.(en), yerr=std.(en) ./ sqrt.(length.(en)), \n",
    "        label=\"n=$n\", c=cg[i], lw=1.5)\n",
    "end\n",
    "pl"
   ]
  }
 ],
 "metadata": {
  "kernelspec": {
   "display_name": "Julia 8 Threads 1.9.0",
   "language": "julia",
   "name": "julia-8-threads-1.9"
  },
  "language_info": {
   "file_extension": ".jl",
   "mimetype": "application/julia",
   "name": "julia",
   "version": "1.9.0"
  }
 },
 "nbformat": 4,
 "nbformat_minor": 2
}
